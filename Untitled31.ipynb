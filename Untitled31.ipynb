{
  "nbformat": 4,
  "nbformat_minor": 0,
  "metadata": {
    "colab": {
      "provenance": [],
      "authorship_tag": "ABX9TyNwzPPfz0AFqx6MVdvkXHH2",
      "include_colab_link": true
    },
    "kernelspec": {
      "name": "python3",
      "display_name": "Python 3"
    },
    "language_info": {
      "name": "python"
    }
  },
  "cells": [
    {
      "cell_type": "markdown",
      "metadata": {
        "id": "view-in-github",
        "colab_type": "text"
      },
      "source": [
        "<a href=\"https://colab.research.google.com/github/Solomon-Million/ML_REGRESSION_MODELING/blob/main/Untitled31.ipynb\" target=\"_parent\"><img src=\"https://colab.research.google.com/assets/colab-badge.svg\" alt=\"Open In Colab\"/></a>"
      ]
    },
    {
      "cell_type": "code",
      "execution_count": 11,
      "metadata": {
        "id": "sl0WZlf5YhqI",
        "colab": {
          "base_uri": "https://localhost:8080/"
        },
        "outputId": "6f3b423d-61a1-4431-986e-414ed887ad43"
      },
      "outputs": [
        {
          "output_type": "stream",
          "name": "stdout",
          "text": [
            "11\n",
            "[1, 2, 3]\n"
          ]
        }
      ],
      "source": [
        "def my_function(a,b):\n",
        "  return(a+b)\n",
        "\n",
        "print(my_function(5,6))\n",
        "list=[1,2,3,4]\n",
        "print(list[0:3])"
      ]
    }
  ]
}